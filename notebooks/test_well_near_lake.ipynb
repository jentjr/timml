{
 "cells": [
  {
   "cell_type": "code",
   "execution_count": null,
   "metadata": {},
   "outputs": [],
   "source": [
    "%matplotlib notebook\n",
    "from timml import *\n",
    "from pylab import *\n",
    "ml = ModelMaq(kaq=[1, 2], z=[10, 5, 4, 0], c=20)\n",
    "xy = [(-5,0), (5,0), (5,8), (-5,8)]\n",
    "p1 = PolygonInhomMaq(ml, xy=[(-5,0), (5,0), (5,8), (-5,8)], \n",
    "                     kaq=[0.2, 8], z=[11,10,5,4,0], c=[2, 20], \n",
    "                     topboundary='semi', hstar=1.0, order=3, ndeg=1)\n",
    "w = Well(ml, xw=0, yw=-10, Qw=100, layers=1)\n",
    "rf = Constant(ml, xr=0, yr=-100, hr=2)\n",
    "ml.solve()"
   ]
  },
  {
   "cell_type": "code",
   "execution_count": null,
   "metadata": {},
   "outputs": [],
   "source": [
    "ml.contour([-10, 10, -10, 10], 50, [0, 1], 20)"
   ]
  }
 ],
 "metadata": {
  "kernelspec": {
   "display_name": "Python 3",
   "language": "python",
   "name": "python3"
  },
  "language_info": {
   "codemirror_mode": {
    "name": "ipython",
    "version": 3
   },
   "file_extension": ".py",
   "mimetype": "text/x-python",
   "name": "python",
   "nbconvert_exporter": "python",
   "pygments_lexer": "ipython3",
   "version": "3.6.0"
  },
  "widgets": {
   "state": {},
   "version": "1.1.2"
  }
 },
 "nbformat": 4,
 "nbformat_minor": 2
}
