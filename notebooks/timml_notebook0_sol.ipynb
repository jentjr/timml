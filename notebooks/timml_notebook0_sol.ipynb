{
 "cells": [
  {
   "cell_type": "markdown",
   "metadata": {},
   "source": [
    "# TimML Notebook 0\n",
    "## Single layer flow"
   ]
  },
  {
   "cell_type": "markdown",
   "metadata": {},
   "source": [
    "Consider uniform flow from East to West. The gradient is 0.001. The hydraulic conductivity is $k=10$ m/d. The aquifer bottom and top are at 0 m and 10 m. The head at $x=-1000$ m and $y=0$ is fixed at 41 m. "
   ]
  },
  {
   "cell_type": "code",
   "execution_count": null,
   "metadata": {
    "collapsed": true
   },
   "outputs": [],
   "source": [
    "from timml import *\n",
    "from pylab import *\n",
    "%matplotlib notebook"
   ]
  },
  {
   "cell_type": "code",
   "execution_count": null,
   "metadata": {
    "collapsed": true
   },
   "outputs": [],
   "source": [
    "ml = ModelMaq(kaq=10, z=[10, 0])"
   ]
  },
  {
   "cell_type": "code",
   "execution_count": null,
   "metadata": {
    "collapsed": true
   },
   "outputs": [],
   "source": [
    "rf = Constant(ml, xr=-1000, yr=0, hr=41)"
   ]
  },
  {
   "cell_type": "code",
   "execution_count": null,
   "metadata": {
    "collapsed": true
   },
   "outputs": [],
   "source": [
    "uf = Uflow(ml, slope=0.001, angle=0)"
   ]
  },
  {
   "cell_type": "code",
   "execution_count": null,
   "metadata": {},
   "outputs": [],
   "source": [
    "ml.solve()"
   ]
  },
  {
   "cell_type": "code",
   "execution_count": null,
   "metadata": {},
   "outputs": [],
   "source": [
    "ml.contour(win=[-1200, 200, -500, 500], ngr=50,\n",
    "           levels=10, labels=True, decimals=2, legend=True)"
   ]
  },
  {
   "cell_type": "markdown",
   "metadata": {},
   "source": [
    "The default contour levels are not what we want for this example, so let's specify the levels \n",
    "to go from 39 to 42 with steps of 0.1 (not all those levels are present in the current window)."
   ]
  },
  {
   "cell_type": "code",
   "execution_count": null,
   "metadata": {},
   "outputs": [],
   "source": [
    "ml.contour(win=[-1200, 200, -500, 500], ngr=50,\n",
    "           levels=arange(39, 42, 0.1), labels=True, decimals=1)"
   ]
  },
  {
   "cell_type": "markdown",
   "metadata": {},
   "source": [
    "A well is located at $(x,y)=(-400,0)$ with a discharge $Q=50$ m$^3$ and a radius of 0.2 m."
   ]
  },
  {
   "cell_type": "code",
   "execution_count": null,
   "metadata": {
    "collapsed": true
   },
   "outputs": [],
   "source": [
    "w = Well(ml, xw=-400, yw=0, Qw=50., rw=0.2)"
   ]
  },
  {
   "cell_type": "markdown",
   "metadata": {},
   "source": [
    "After the well is added (or any other elements), the model needs to be solved again. A contour plot is created and a 10 strace line are added. The stepsize is given in meters and represents the largest space step that is taken, but it is reduced when certain accuracy constraints are not met. Note that, after running the code cell below, for each trace line it is printed to the screen what the reason was that the traceline was aborted. In this case it was either because the trace line reached a well or reached the maximum number of steps (the default is 100 steps, but this can be changed by specifying the `nstepmax` keyword).  "
   ]
  },
  {
   "cell_type": "code",
   "execution_count": null,
   "metadata": {
    "scrolled": false
   },
   "outputs": [],
   "source": [
    "ml.solve()\n",
    "ml.contour(win=[-1000, 100, -500, 500], ngr=50, levels=np.arange(39, 42, 0.1))\n",
    "ml.tracelines(-800 * ones(1), -200 * ones(1), zeros(1), hstepmax=20)"
   ]
  },
  {
   "cell_type": "markdown",
   "metadata": {},
   "source": [
    "### Exercise a\n",
    "Draw 10 tracelines from $x=-800$ and different values of $y$."
   ]
  },
  {
   "cell_type": "code",
   "execution_count": null,
   "metadata": {},
   "outputs": [],
   "source": [
    "ml.contour(win=[-1000, 100, -500, 500], ngr=50, levels=np.arange(39, 42, 0.1))\n",
    "ml.tracelines(-800 * ones(10), linspace(-500, 500, 10), zeros(10), hstepmax=20)"
   ]
  },
  {
   "cell_type": "markdown",
   "metadata": {},
   "source": [
    "### Exercise b\n",
    "Quadruple the discharge of the well and reproduce the same figure"
   ]
  },
  {
   "cell_type": "code",
   "execution_count": null,
   "metadata": {},
   "outputs": [],
   "source": [
    "ml = ModelMaq(kaq=10, z=[10, 0])\n",
    "rf = Constant(ml, xr=-1000, yr=0, hr=41)\n",
    "uf = Uflow(ml, slope=0.001, angle=0)\n",
    "w = Well(ml, xw=-400, yw=0, Qw=200, rw=0.2)\n",
    "ml.solve()\n",
    "ml.contour(win=[-1000, 100, -500, 500], ngr=50, levels=np.arange(39, 42, 0.1))\n",
    "ml.tracelines(-800 * ones(10), linspace(-500, 500, 10), zeros(10), hstepmax=20)\n",
    "print(('head at well:', w.headinside()))"
   ]
  },
  {
   "cell_type": "markdown",
   "metadata": {},
   "source": [
    "### Add a river\n",
    "A river runs along $x=0$. The water level in the river is at 40 m."
   ]
  },
  {
   "cell_type": "code",
   "execution_count": null,
   "metadata": {},
   "outputs": [],
   "source": [
    "ml = ModelMaq(kaq=10, z=[10, 0])\n",
    "rf = Constant(ml, xr=-1000, yr=0, hr=41)\n",
    "uf = Uflow(ml, slope=0.001, angle=0)\n",
    "w = Well(ml, xw=-400, yw=0, Qw=200, rw=0.2)\n",
    "ls1 = HeadLineSink(ml, 0, -500, 0, 500, 40)\n",
    "ml.solve()\n",
    "ml.contour(win=[-1000, 100, -500, 500], ngr=50, levels=arange(39, 42, 0.1))\n",
    "print(('head at well:', w.headinside()))"
   ]
  },
  {
   "cell_type": "markdown",
   "metadata": {},
   "source": [
    "### Exercise c\n",
    "Simulate the river with 20 line-sinks from $y=-800$ to $y=800$. "
   ]
  },
  {
   "cell_type": "code",
   "execution_count": null,
   "metadata": {},
   "outputs": [],
   "source": [
    "ml = ModelMaq(kaq=10, z=[10, 0])\n",
    "rf = Constant(ml, xr=-1000, yr=0, hr=41)\n",
    "uf = Uflow(ml, slope=0.001, angle=0)\n",
    "w = Well(ml, xw=-400, yw=0, Qw=200, rw=0.2)\n",
    "xls = zeros(21)\n",
    "yls = linspace(-800, 800, 21)\n",
    "ls = HeadLineSinkString(ml, xy=list(zip(xls, yls)), hls=40, layers=0)\n",
    "ml.solve()\n",
    "ml.contour(win=[-1000, 100, -500, 500], ngr=50, levels=arange(39, 42, 0.1))\n",
    "ml.tracelines(-800 * ones(10), linspace(-500, 500, 10), zeros(10), hstepmax=20, color='b')\n",
    "ml.tracelines(-0.01 * ones(5), linspace(-150, 150, 5), zeros(5), hstepmax=20, color='r')"
   ]
  },
  {
   "cell_type": "markdown",
   "metadata": {},
   "source": [
    "### Capture zone\n",
    "Create a five year capture zone. You may want to create a contour plot first."
   ]
  },
  {
   "cell_type": "code",
   "execution_count": null,
   "metadata": {},
   "outputs": [],
   "source": [
    "ml.contour(win=[-1000, 100, -500, 500], ngr=50, levels=arange(39, 42, 0.1), layers=0)\n",
    "w.plotcapzone(hstepmax=20, nt=20, zstart=0, tmax=5 * 365.25, color='b')"
   ]
  },
  {
   "cell_type": "markdown",
   "metadata": {},
   "source": [
    "### Exercise d\n",
    "Create a 20 year capture zone using 20 tracelines."
   ]
  },
  {
   "cell_type": "code",
   "execution_count": null,
   "metadata": {},
   "outputs": [],
   "source": [
    "ml.contour(win=[-1000, 100, -500, 500], ngr=50, levels=arange(39, 42, 0.1), layers=0)\n",
    "w.plotcapzone(hstepmax=20, nt=20, zstart=0, tmax=20 * 365.25, color='b')"
   ]
  },
  {
   "cell_type": "code",
   "execution_count": null,
   "metadata": {},
   "outputs": [],
   "source": [
    "win = gca().axis()\n",
    "ml.contour(win=win, ngr=50, levels=arange(39, 42, 0.1), layers=0)"
   ]
  },
  {
   "cell_type": "code",
   "execution_count": null,
   "metadata": {
    "collapsed": true
   },
   "outputs": [],
   "source": []
  }
 ],
 "metadata": {
  "kernelspec": {
   "display_name": "Python 3",
   "language": "python",
   "name": "python3"
  },
  "language_info": {
   "codemirror_mode": {
    "name": "ipython",
    "version": 3
   },
   "file_extension": ".py",
   "mimetype": "text/x-python",
   "name": "python",
   "nbconvert_exporter": "python",
   "pygments_lexer": "ipython3",
   "version": "3.6.0"
  },
  "widgets": {
   "state": {},
   "version": "1.1.2"
  }
 },
 "nbformat": 4,
 "nbformat_minor": 1
}
